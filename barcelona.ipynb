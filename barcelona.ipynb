{
 "cells": [
  {
   "cell_type": "markdown",
   "id": "bff2e0e9",
   "metadata": {},
   "source": [
    " ### Exploratory Data Analysis of the Barcelona Population Dataset\n",
    " \n",
    "The data file 'population.csv' is Kaggle, but originally sourced from the Open Data BCN portal. The data contains information about Barcelona's population for the years 2013-2017, including its distribution by age, gender, neighbourhood and district. We will analyse how the total population in Barcelona changed during these years, what the population is for different neighbourhoods and districts, and what the proportions are for the male and female population for different areas. \n",
    " "
   ]
  },
  {
   "cell_type": "code",
   "execution_count": 103,
   "id": "ba4201aa",
   "metadata": {},
   "outputs": [
    {
     "data": {
      "text/html": [
       "<div>\n",
       "<style scoped>\n",
       "    .dataframe tbody tr th:only-of-type {\n",
       "        vertical-align: middle;\n",
       "    }\n",
       "\n",
       "    .dataframe tbody tr th {\n",
       "        vertical-align: top;\n",
       "    }\n",
       "\n",
       "    .dataframe thead th {\n",
       "        text-align: right;\n",
       "    }\n",
       "</style>\n",
       "<table border=\"1\" class=\"dataframe\">\n",
       "  <thead>\n",
       "    <tr style=\"text-align: right;\">\n",
       "      <th></th>\n",
       "      <th>Year</th>\n",
       "      <th>District.Code</th>\n",
       "      <th>District.Name</th>\n",
       "      <th>Neighborhood.Code</th>\n",
       "      <th>Neighborhood.Name</th>\n",
       "      <th>Gender</th>\n",
       "      <th>Age</th>\n",
       "      <th>Number</th>\n",
       "    </tr>\n",
       "  </thead>\n",
       "  <tbody>\n",
       "    <tr>\n",
       "      <th>0</th>\n",
       "      <td>2017</td>\n",
       "      <td>1</td>\n",
       "      <td>Ciutat Vella</td>\n",
       "      <td>1</td>\n",
       "      <td>el Raval</td>\n",
       "      <td>Male</td>\n",
       "      <td>0-4</td>\n",
       "      <td>224</td>\n",
       "    </tr>\n",
       "    <tr>\n",
       "      <th>1</th>\n",
       "      <td>2017</td>\n",
       "      <td>1</td>\n",
       "      <td>Ciutat Vella</td>\n",
       "      <td>2</td>\n",
       "      <td>el Barri Gòtic</td>\n",
       "      <td>Male</td>\n",
       "      <td>0-4</td>\n",
       "      <td>50</td>\n",
       "    </tr>\n",
       "    <tr>\n",
       "      <th>2</th>\n",
       "      <td>2017</td>\n",
       "      <td>1</td>\n",
       "      <td>Ciutat Vella</td>\n",
       "      <td>3</td>\n",
       "      <td>la Barceloneta</td>\n",
       "      <td>Male</td>\n",
       "      <td>0-4</td>\n",
       "      <td>43</td>\n",
       "    </tr>\n",
       "    <tr>\n",
       "      <th>3</th>\n",
       "      <td>2017</td>\n",
       "      <td>1</td>\n",
       "      <td>Ciutat Vella</td>\n",
       "      <td>4</td>\n",
       "      <td>Sant Pere, Santa Caterina i la Ribera</td>\n",
       "      <td>Male</td>\n",
       "      <td>0-4</td>\n",
       "      <td>95</td>\n",
       "    </tr>\n",
       "    <tr>\n",
       "      <th>4</th>\n",
       "      <td>2017</td>\n",
       "      <td>2</td>\n",
       "      <td>Eixample</td>\n",
       "      <td>5</td>\n",
       "      <td>el Fort Pienc</td>\n",
       "      <td>Male</td>\n",
       "      <td>0-4</td>\n",
       "      <td>124</td>\n",
       "    </tr>\n",
       "  </tbody>\n",
       "</table>\n",
       "</div>"
      ],
      "text/plain": [
       "   Year  District.Code District.Name  Neighborhood.Code  \\\n",
       "0  2017              1  Ciutat Vella                  1   \n",
       "1  2017              1  Ciutat Vella                  2   \n",
       "2  2017              1  Ciutat Vella                  3   \n",
       "3  2017              1  Ciutat Vella                  4   \n",
       "4  2017              2      Eixample                  5   \n",
       "\n",
       "                       Neighborhood.Name Gender  Age  Number  \n",
       "0                               el Raval   Male  0-4     224  \n",
       "1                         el Barri Gòtic   Male  0-4      50  \n",
       "2                         la Barceloneta   Male  0-4      43  \n",
       "3  Sant Pere, Santa Caterina i la Ribera   Male  0-4      95  \n",
       "4                          el Fort Pienc   Male  0-4     124  "
      ]
     },
     "execution_count": 103,
     "metadata": {},
     "output_type": "execute_result"
    }
   ],
   "source": [
    "import numpy as np\n",
    "import pandas as pd\n",
    "import seaborn as sns\n",
    "import matplotlib.pyplot as plt\n",
    "\n",
    "df = pd.read_csv('population.csv')\n",
    "df.head()"
   ]
  },
  {
   "cell_type": "code",
   "execution_count": 104,
   "id": "06397c76",
   "metadata": {},
   "outputs": [
    {
     "name": "stdout",
     "output_type": "stream",
     "text": [
      "File 'population_csv' data have 70080 rows and 8 columns.\n"
     ]
    }
   ],
   "source": [
    "print(f'File \\'population_csv\\' data have {df.shape[0]} rows and {df.shape[1]} columns.')"
   ]
  },
  {
   "cell_type": "code",
   "execution_count": 105,
   "id": "db0cfca2",
   "metadata": {},
   "outputs": [
    {
     "data": {
      "text/plain": [
       "Index(['Year', 'District.Code', 'District.Name', 'Neighborhood.Code',\n",
       "       'Neighborhood.Name', 'Gender', 'Age', 'Number'],\n",
       "      dtype='object')"
      ]
     },
     "execution_count": 105,
     "metadata": {},
     "output_type": "execute_result"
    }
   ],
   "source": [
    "df.columns"
   ]
  },
  {
   "cell_type": "code",
   "execution_count": 106,
   "id": "715764b8",
   "metadata": {},
   "outputs": [
    {
     "name": "stdout",
     "output_type": "stream",
     "text": [
      "number of unique values in Year : 5\n",
      "number of unique values in District.Code : 10\n",
      "number of unique values in District.Name : 10\n",
      "number of unique values in Neighborhood.Code : 73\n",
      "number of unique values in Neighborhood.Name : 73\n",
      "number of unique values in Gender : 2\n",
      "number of unique values in Age : 20\n",
      "number of unique values in Number : 630\n"
     ]
    }
   ],
   "source": [
    "# number of unique values in each feature\n",
    "for col in df.columns.values:\n",
    "    print(f'number of unique values in {col} : {df[col].nunique()}')"
   ]
  },
  {
   "cell_type": "code",
   "execution_count": 107,
   "id": "9404ab5c",
   "metadata": {},
   "outputs": [
    {
     "name": "stdout",
     "output_type": "stream",
     "text": [
      "<class 'pandas.core.frame.DataFrame'>\n",
      "RangeIndex: 70080 entries, 0 to 70079\n",
      "Data columns (total 8 columns):\n",
      " #   Column             Non-Null Count  Dtype \n",
      "---  ------             --------------  ----- \n",
      " 0   Year               70080 non-null  int64 \n",
      " 1   District.Code      70080 non-null  int64 \n",
      " 2   District.Name      70080 non-null  object\n",
      " 3   Neighborhood.Code  70080 non-null  int64 \n",
      " 4   Neighborhood.Name  70080 non-null  object\n",
      " 5   Gender             70080 non-null  object\n",
      " 6   Age                70080 non-null  object\n",
      " 7   Number             70080 non-null  int64 \n",
      "dtypes: int64(4), object(4)\n",
      "memory usage: 4.3+ MB\n"
     ]
    }
   ],
   "source": [
    "df.info()"
   ]
  },
  {
   "cell_type": "markdown",
   "id": "0abe69e5",
   "metadata": {},
   "source": [
    "Now find and remove duplicated values. "
   ]
  },
  {
   "cell_type": "code",
   "execution_count": 108,
   "id": "1f2911b1",
   "metadata": {},
   "outputs": [
    {
     "name": "stdout",
     "output_type": "stream",
     "text": [
      "Number of duplicated entries:  4277\n"
     ]
    }
   ],
   "source": [
    "if len(df[df.duplicated()]) > 0:\n",
    "    print(\"Number of duplicated entries: \", len(df[df.duplicated()]))\n",
    "else:\n",
    "    print(\"No duplicated entries found\")"
   ]
  },
  {
   "cell_type": "code",
   "execution_count": 109,
   "id": "7c3db7dd",
   "metadata": {},
   "outputs": [],
   "source": [
    "# remove duplicated rows\n",
    "df.drop_duplicates(inplace = True)"
   ]
  },
  {
   "cell_type": "markdown",
   "id": "a2b6566a",
   "metadata": {},
   "source": [
    "There are no missing values in the dataset:"
   ]
  },
  {
   "cell_type": "code",
   "execution_count": 110,
   "id": "7a42b027",
   "metadata": {
    "scrolled": true
   },
   "outputs": [
    {
     "name": "stdout",
     "output_type": "stream",
     "text": [
      "Missing values in the dataframe:\n",
      "Year                 0\n",
      "District.Code        0\n",
      "District.Name        0\n",
      "Neighborhood.Code    0\n",
      "Neighborhood.Name    0\n",
      "Gender               0\n",
      "Age                  0\n",
      "Number               0\n",
      "dtype: int64\n"
     ]
    }
   ],
   "source": [
    "# check missing values\n",
    "print(f'Missing values in the dataframe:\\n{df.isnull().sum()}')"
   ]
  },
  {
   "cell_type": "markdown",
   "id": "2a2abe7c",
   "metadata": {},
   "source": [
    "### Visualizations and analysis\n",
    "\n",
    "Let's consider the total population of Barcelona changes from 2013 to 2017.\n"
   ]
  },
  {
   "cell_type": "code",
   "execution_count": 111,
   "id": "a0561e0b",
   "metadata": {},
   "outputs": [
    {
     "name": "stdout",
     "output_type": "stream",
     "text": [
      "Total population by year:\n",
      "Year\n",
      "2013    1552211\n",
      "2014    1547083\n",
      "2015    1546923\n",
      "2016    1552363\n",
      "2017    1564314\n",
      "Name: Number, dtype: int64\n"
     ]
    }
   ],
   "source": [
    "# population changes over the years\n",
    "sub_df = df.groupby(['Year'])['Number'].sum()\n",
    "print(f'Total population by year:\\n{sub_df}')"
   ]
  },
  {
   "cell_type": "code",
   "execution_count": 112,
   "id": "e35336b3",
   "metadata": {},
   "outputs": [
    {
     "data": {
      "text/plain": [
       "<AxesSubplot:title={'center':'Barcelona population years 2013-2017'}, xlabel='Year', ylabel='Population'>"
      ]
     },
     "execution_count": 112,
     "metadata": {},
     "output_type": "execute_result"
    },
    {
     "data": {
      "image/png": "[encoded data removed]",
      "text/plain": [
       "<Figure size 576x288 with 1 Axes>"
      ]
     },
     "metadata": {
      "needs_background": "light"
     },
     "output_type": "display_data"
    }
   ],
   "source": [
    "plt.rcParams[\"figure.figsize\"] = (8,4)\n",
    "plt.title(\"Barcelona population years 2013-2017\")\n",
    "plt.ylabel(\"Population\")\n",
    "\n",
    "sub_df.plot(x='Year', color='blue')\n"
   ]
  },
  {
   "cell_type": "markdown",
   "id": "d6f879ea",
   "metadata": {},
   "source": [
    "There was a drop in population numbers during year 2013 and values stayed almost the same (minor decline) during 2014. There has been a steady grows starting from 2015."
   ]
  },
  {
   "cell_type": "code",
   "execution_count": 113,
   "id": "c5d93dbe",
   "metadata": {},
   "outputs": [
    {
     "name": "stdout",
     "output_type": "stream",
     "text": [
      "Gender  Female  Male\n",
      "Year                \n",
      "2013      6613  6525\n",
      "2014      6606  6537\n",
      "2015      6583  6549\n",
      "2016      6607  6570\n",
      "2017      6630  6583\n"
     ]
    },
    {
     "data": {
      "text/plain": [
       "<matplotlib.legend.Legend at 0x188450efd00>"
      ]
     },
     "execution_count": 113,
     "metadata": {},
     "output_type": "execute_result"
    },
    {
     "data": {
      "image/png": "[encoded data removed]",
      "text/plain": [
       "<Figure size 576x216 with 1 Axes>"
      ]
     },
     "metadata": {
      "needs_background": "light"
     },
     "output_type": "display_data"
    }
   ],
   "source": [
    "sub_df = df.groupby(['Year', 'Gender']).size().unstack()\n",
    "print(sub_df)\n",
    "sub_df.plot(kind='bar',title='Male and Female Population', figsize=(8, 3)) \n",
    "plt.legend(loc='lower right', title='Gender')"
   ]
  },
  {
   "cell_type": "markdown",
   "id": "48b0c4c5",
   "metadata": {},
   "source": [
    "As can be observed from the graph above, the male-to-female ratio remains approximately the same over the course of the five years."
   ]
  },
  {
   "cell_type": "code",
   "execution_count": 114,
   "id": "7aad8a0f",
   "metadata": {},
   "outputs": [
    {
     "data": {
      "text/plain": [
       "<matplotlib.legend.Legend at 0x188424b07c0>"
      ]
     },
     "execution_count": 114,
     "metadata": {},
     "output_type": "execute_result"
    },
    {
     "data": {
      "image/png": "[encoded data removed]",
      "text/plain": [
       "<Figure size 864x288 with 1 Axes>"
      ]
     },
     "metadata": {
      "needs_background": "light"
     },
     "output_type": "display_data"
    }
   ],
   "source": [
    "# how the male:female population distribution in diffrerent districts for last year 2017 \n",
    "df_2017 = df[df['Year']==2017]\n",
    "fig = plt.figure(figsize=(12,4))\n",
    "plt.xticks(rotation=45)\n",
    "sns.countplot(data=df_2017,x='District.Name',hue='Gender')\n",
    "plt.legend(loc='lower right', title='Gender')"
   ]
  },
  {
   "cell_type": "markdown",
   "id": "289e9aaa",
   "metadata": {},
   "source": [
    "For the year 2017, all districts except Nou Barris have very similar number of males and females. In the Nou Barris district, the female population was slightly (by 1.6%) higher than the male population. "
   ]
  },
  {
   "cell_type": "markdown",
   "id": "e79573a8",
   "metadata": {},
   "source": [
    "Compare the age distribution between different years."
   ]
  },
  {
   "cell_type": "code",
   "execution_count": 143,
   "id": "e75789e7",
   "metadata": {},
   "outputs": [
    {
     "data": {
      "text/plain": [
       "array(['0-4', '5-9', '10-14', '15-19', '20-24', '25-29', '30-34', '35-39',\n",
       "       '40-44', '45-49', '50-54', '55-59', '60-64', '65-69', '70-74',\n",
       "       '75-79', '80-84', '85-89', '90-94', '>=95'], dtype=object)"
      ]
     },
     "execution_count": 143,
     "metadata": {},
     "output_type": "execute_result"
    }
   ],
   "source": [
    "df.Age.unique()"
   ]
  },
  {
   "cell_type": "code",
   "execution_count": 149,
   "id": "2eb09569",
   "metadata": {},
   "outputs": [
    {
     "data": {
      "text/html": [
       "<div>\n",
       "<style scoped>\n",
       "    .dataframe tbody tr th:only-of-type {\n",
       "        vertical-align: middle;\n",
       "    }\n",
       "\n",
       "    .dataframe tbody tr th {\n",
       "        vertical-align: top;\n",
       "    }\n",
       "\n",
       "    .dataframe thead th {\n",
       "        text-align: right;\n",
       "    }\n",
       "</style>\n",
       "<table border=\"1\" class=\"dataframe\">\n",
       "  <thead>\n",
       "    <tr style=\"text-align: right;\">\n",
       "      <th>Age</th>\n",
       "      <th>0-4</th>\n",
       "      <th>10-14</th>\n",
       "      <th>15-19</th>\n",
       "      <th>20-24</th>\n",
       "      <th>25-29</th>\n",
       "      <th>30-34</th>\n",
       "      <th>35-39</th>\n",
       "      <th>40-44</th>\n",
       "      <th>45-49</th>\n",
       "      <th>5-9</th>\n",
       "      <th>50-54</th>\n",
       "      <th>55-59</th>\n",
       "      <th>60-64</th>\n",
       "      <th>65-69</th>\n",
       "      <th>70-74</th>\n",
       "      <th>75-79</th>\n",
       "      <th>80-84</th>\n",
       "      <th>85-89</th>\n",
       "      <th>90-94</th>\n",
       "      <th>&gt;=95</th>\n",
       "    </tr>\n",
       "    <tr>\n",
       "      <th>Year</th>\n",
       "      <th></th>\n",
       "      <th></th>\n",
       "      <th></th>\n",
       "      <th></th>\n",
       "      <th></th>\n",
       "      <th></th>\n",
       "      <th></th>\n",
       "      <th></th>\n",
       "      <th></th>\n",
       "      <th></th>\n",
       "      <th></th>\n",
       "      <th></th>\n",
       "      <th></th>\n",
       "      <th></th>\n",
       "      <th></th>\n",
       "      <th></th>\n",
       "      <th></th>\n",
       "      <th></th>\n",
       "      <th></th>\n",
       "      <th></th>\n",
       "    </tr>\n",
       "  </thead>\n",
       "  <tbody>\n",
       "    <tr>\n",
       "      <th>2013</th>\n",
       "      <td>65869</td>\n",
       "      <td>57984</td>\n",
       "      <td>60339</td>\n",
       "      <td>76649</td>\n",
       "      <td>108223</td>\n",
       "      <td>133320</td>\n",
       "      <td>136689</td>\n",
       "      <td>122278</td>\n",
       "      <td>114172</td>\n",
       "      <td>64169</td>\n",
       "      <td>103594</td>\n",
       "      <td>92887</td>\n",
       "      <td>88045</td>\n",
       "      <td>82566</td>\n",
       "      <td>64555</td>\n",
       "      <td>66707</td>\n",
       "      <td>57789</td>\n",
       "      <td>37180</td>\n",
       "      <td>14945</td>\n",
       "      <td>4251</td>\n",
       "    </tr>\n",
       "    <tr>\n",
       "      <th>2014</th>\n",
       "      <td>65204</td>\n",
       "      <td>59971</td>\n",
       "      <td>59781</td>\n",
       "      <td>73818</td>\n",
       "      <td>102786</td>\n",
       "      <td>127654</td>\n",
       "      <td>137108</td>\n",
       "      <td>123129</td>\n",
       "      <td>112457</td>\n",
       "      <td>64911</td>\n",
       "      <td>105429</td>\n",
       "      <td>94538</td>\n",
       "      <td>86142</td>\n",
       "      <td>85744</td>\n",
       "      <td>68148</td>\n",
       "      <td>63821</td>\n",
       "      <td>58839</td>\n",
       "      <td>37352</td>\n",
       "      <td>15763</td>\n",
       "      <td>4488</td>\n",
       "    </tr>\n",
       "    <tr>\n",
       "      <th>2015</th>\n",
       "      <td>66041</td>\n",
       "      <td>61260</td>\n",
       "      <td>60328</td>\n",
       "      <td>72155</td>\n",
       "      <td>100217</td>\n",
       "      <td>124434</td>\n",
       "      <td>135617</td>\n",
       "      <td>125414</td>\n",
       "      <td>113022</td>\n",
       "      <td>64886</td>\n",
       "      <td>106929</td>\n",
       "      <td>97148</td>\n",
       "      <td>84352</td>\n",
       "      <td>85662</td>\n",
       "      <td>72658</td>\n",
       "      <td>59105</td>\n",
       "      <td>57704</td>\n",
       "      <td>38228</td>\n",
       "      <td>17012</td>\n",
       "      <td>4751</td>\n",
       "    </tr>\n",
       "    <tr>\n",
       "      <th>2016</th>\n",
       "      <td>65296</td>\n",
       "      <td>62198</td>\n",
       "      <td>61380</td>\n",
       "      <td>74925</td>\n",
       "      <td>99045</td>\n",
       "      <td>120034</td>\n",
       "      <td>133092</td>\n",
       "      <td>126954</td>\n",
       "      <td>114093</td>\n",
       "      <td>65264</td>\n",
       "      <td>107054</td>\n",
       "      <td>98190</td>\n",
       "      <td>86797</td>\n",
       "      <td>83631</td>\n",
       "      <td>74034</td>\n",
       "      <td>60677</td>\n",
       "      <td>57545</td>\n",
       "      <td>39502</td>\n",
       "      <td>17612</td>\n",
       "      <td>5040</td>\n",
       "    </tr>\n",
       "    <tr>\n",
       "      <th>2017</th>\n",
       "      <td>65750</td>\n",
       "      <td>64067</td>\n",
       "      <td>63048</td>\n",
       "      <td>76615</td>\n",
       "      <td>104091</td>\n",
       "      <td>118027</td>\n",
       "      <td>129793</td>\n",
       "      <td>129845</td>\n",
       "      <td>114054</td>\n",
       "      <td>66462</td>\n",
       "      <td>109291</td>\n",
       "      <td>98304</td>\n",
       "      <td>87928</td>\n",
       "      <td>82790</td>\n",
       "      <td>75444</td>\n",
       "      <td>58503</td>\n",
       "      <td>56713</td>\n",
       "      <td>39975</td>\n",
       "      <td>18199</td>\n",
       "      <td>5415</td>\n",
       "    </tr>\n",
       "  </tbody>\n",
       "</table>\n",
       "</div>"
      ],
      "text/plain": [
       "Age     0-4  10-14  15-19  20-24   25-29   30-34   35-39   40-44   45-49  \\\n",
       "Year                                                                       \n",
       "2013  65869  57984  60339  76649  108223  133320  136689  122278  114172   \n",
       "2014  65204  59971  59781  73818  102786  127654  137108  123129  112457   \n",
       "2015  66041  61260  60328  72155  100217  124434  135617  125414  113022   \n",
       "2016  65296  62198  61380  74925   99045  120034  133092  126954  114093   \n",
       "2017  65750  64067  63048  76615  104091  118027  129793  129845  114054   \n",
       "\n",
       "Age     5-9   50-54  55-59  60-64  65-69  70-74  75-79  80-84  85-89  90-94  \\\n",
       "Year                                                                          \n",
       "2013  64169  103594  92887  88045  82566  64555  66707  57789  37180  14945   \n",
       "2014  64911  105429  94538  86142  85744  68148  63821  58839  37352  15763   \n",
       "2015  64886  106929  97148  84352  85662  72658  59105  57704  38228  17012   \n",
       "2016  65264  107054  98190  86797  83631  74034  60677  57545  39502  17612   \n",
       "2017  66462  109291  98304  87928  82790  75444  58503  56713  39975  18199   \n",
       "\n",
       "Age   >=95  \n",
       "Year        \n",
       "2013  4251  \n",
       "2014  4488  \n",
       "2015  4751  \n",
       "2016  5040  \n",
       "2017  5415  "
      ]
     },
     "execution_count": 149,
     "metadata": {},
     "output_type": "execute_result"
    }
   ],
   "source": [
    "sub_df = df.groupby(['Year','Age'])['Number'].sum().unstack()\n",
    "sub_df"
   ]
  },
  {
   "cell_type": "code",
   "execution_count": 150,
   "id": "5274d906",
   "metadata": {},
   "outputs": [
    {
     "data": {
      "image/png": "[encoded data removed]",
      "text/plain": [
       "<Figure size 1080x288 with 3 Axes>"
      ]
     },
     "metadata": {
      "needs_background": "light"
     },
     "output_type": "display_data"
    },
    {
     "data": {
      "image/png": "[encoded data removed]",
      "text/plain": [
       "<Figure size 720x288 with 2 Axes>"
      ]
     },
     "metadata": {
      "needs_background": "light"
     },
     "output_type": "display_data"
    }
   ],
   "source": [
    "age_2017 = df[df['Year']==2017].groupby(['Age'])['Number'].sum()\n",
    "age_2016 = df[df['Year']==2016].groupby(['Age'])['Number'].sum()\n",
    "age_2015 = df[df['Year']==2015].groupby(['Age'])['Number'].sum()\n",
    "age_2014 = df[df['Year']==2014].groupby(['Age'])['Number'].sum()\n",
    "age_2013 = df[df['Year']==2013].groupby(['Age'])['Number'].sum()\n",
    "\n",
    "fig, (ax1, ax2, ax3) = plt.subplots(1,3, figsize=(15,4))\n",
    "age_2017.plot(kind='bar', color='blue', alpha=0.6, title='Population by age, Year 2017', ax=ax1)\n",
    "ax1.grid(linestyle='--', alpha=0.5, axis='y')\n",
    "age_2016.plot(kind='bar', color='blue', alpha=0.6, title='Population by age, Year 2016', ax=ax2)\n",
    "ax2.grid(linestyle='--', alpha=0.5, axis='y')\n",
    "age_2015.plot(kind='bar', color='blue', alpha=0.6, title='Population by age, Year 2015', ax=ax3)\n",
    "plt.grid(linestyle='--', alpha=0.5, axis='y')\n",
    "\n",
    "fig, (ax4, ax5) = plt.subplots(1,2, figsize=(10,4))\n",
    "age_2014.plot(kind='bar', color='blue', alpha=0.6, title='Population by age, Year 2014', ax=ax4)\n",
    "ax4.grid(linestyle='--', alpha=0.5, axis='y')\n",
    "age_2013.plot(kind='bar', color='blue', alpha=0.6, title='Population by age, Year 2013', ax=ax5)\n",
    "ax5.grid(linestyle='--', alpha=0.5, axis='y')"
   ]
  },
  {
   "cell_type": "markdown",
   "id": "7a627abb",
   "metadata": {},
   "source": [
    "As can be observed from the images above, in 2017 there were fewer people in the age group 30-40 compared to previous years. The number of children and young people aged 5-19 was larger in 2017 and has been increasing since 2015. The number of people in the age group 75-79 decreased, and the number of people older than 85 was greater."
   ]
  },
  {
   "cell_type": "code",
   "execution_count": 153,
   "id": "04fb6e4f",
   "metadata": {},
   "outputs": [
    {
     "data": {
      "text/html": [
       "<div>\n",
       "<style scoped>\n",
       "    .dataframe tbody tr th:only-of-type {\n",
       "        vertical-align: middle;\n",
       "    }\n",
       "\n",
       "    .dataframe tbody tr th {\n",
       "        vertical-align: top;\n",
       "    }\n",
       "\n",
       "    .dataframe thead th {\n",
       "        text-align: right;\n",
       "    }\n",
       "</style>\n",
       "<table border=\"1\" class=\"dataframe\">\n",
       "  <thead>\n",
       "    <tr style=\"text-align: right;\">\n",
       "      <th>District.Name</th>\n",
       "      <th>Ciutat Vella</th>\n",
       "      <th>Eixample</th>\n",
       "      <th>Gràcia</th>\n",
       "      <th>Horta-Guinardó</th>\n",
       "      <th>Les Corts</th>\n",
       "      <th>Nou Barris</th>\n",
       "      <th>Sant Andreu</th>\n",
       "      <th>Sant Martí</th>\n",
       "      <th>Sants-Montjuïc</th>\n",
       "      <th>Sarrià-Sant Gervasi</th>\n",
       "    </tr>\n",
       "    <tr>\n",
       "      <th>Year</th>\n",
       "      <th></th>\n",
       "      <th></th>\n",
       "      <th></th>\n",
       "      <th></th>\n",
       "      <th></th>\n",
       "      <th></th>\n",
       "      <th></th>\n",
       "      <th></th>\n",
       "      <th></th>\n",
       "      <th></th>\n",
       "    </tr>\n",
       "  </thead>\n",
       "  <tbody>\n",
       "    <tr>\n",
       "      <th>2013</th>\n",
       "      <td>99740</td>\n",
       "      <td>258746</td>\n",
       "      <td>115729</td>\n",
       "      <td>159991</td>\n",
       "      <td>79508</td>\n",
       "      <td>156592</td>\n",
       "      <td>141613</td>\n",
       "      <td>223699</td>\n",
       "      <td>176630</td>\n",
       "      <td>139963</td>\n",
       "    </tr>\n",
       "    <tr>\n",
       "      <th>2014</th>\n",
       "      <td>97710</td>\n",
       "      <td>259767</td>\n",
       "      <td>116595</td>\n",
       "      <td>159949</td>\n",
       "      <td>78451</td>\n",
       "      <td>155325</td>\n",
       "      <td>140294</td>\n",
       "      <td>224985</td>\n",
       "      <td>174306</td>\n",
       "      <td>139701</td>\n",
       "    </tr>\n",
       "    <tr>\n",
       "      <th>2015</th>\n",
       "      <td>97031</td>\n",
       "      <td>258772</td>\n",
       "      <td>116220</td>\n",
       "      <td>158601</td>\n",
       "      <td>78120</td>\n",
       "      <td>155378</td>\n",
       "      <td>141579</td>\n",
       "      <td>225801</td>\n",
       "      <td>174140</td>\n",
       "      <td>141281</td>\n",
       "    </tr>\n",
       "    <tr>\n",
       "      <th>2016</th>\n",
       "      <td>96446</td>\n",
       "      <td>258364</td>\n",
       "      <td>117276</td>\n",
       "      <td>160915</td>\n",
       "      <td>79075</td>\n",
       "      <td>156486</td>\n",
       "      <td>140703</td>\n",
       "      <td>225931</td>\n",
       "      <td>174546</td>\n",
       "      <td>142621</td>\n",
       "    </tr>\n",
       "    <tr>\n",
       "      <th>2017</th>\n",
       "      <td>98232</td>\n",
       "      <td>258152</td>\n",
       "      <td>117227</td>\n",
       "      <td>161921</td>\n",
       "      <td>79888</td>\n",
       "      <td>159214</td>\n",
       "      <td>143246</td>\n",
       "      <td>227989</td>\n",
       "      <td>174478</td>\n",
       "      <td>143967</td>\n",
       "    </tr>\n",
       "  </tbody>\n",
       "</table>\n",
       "</div>"
      ],
      "text/plain": [
       "District.Name  Ciutat Vella  Eixample  Gràcia  Horta-Guinardó  Les Corts  \\\n",
       "Year                                                                       \n",
       "2013                  99740    258746  115729          159991      79508   \n",
       "2014                  97710    259767  116595          159949      78451   \n",
       "2015                  97031    258772  116220          158601      78120   \n",
       "2016                  96446    258364  117276          160915      79075   \n",
       "2017                  98232    258152  117227          161921      79888   \n",
       "\n",
       "District.Name  Nou Barris  Sant Andreu  Sant Martí  Sants-Montjuïc  \\\n",
       "Year                                                                 \n",
       "2013               156592       141613      223699          176630   \n",
       "2014               155325       140294      224985          174306   \n",
       "2015               155378       141579      225801          174140   \n",
       "2016               156486       140703      225931          174546   \n",
       "2017               159214       143246      227989          174478   \n",
       "\n",
       "District.Name  Sarrià-Sant Gervasi  \n",
       "Year                                \n",
       "2013                        139963  \n",
       "2014                        139701  \n",
       "2015                        141281  \n",
       "2016                        142621  \n",
       "2017                        143967  "
      ]
     },
     "execution_count": 153,
     "metadata": {},
     "output_type": "execute_result"
    }
   ],
   "source": [
    "sub_df = df.groupby(['Year','District.Name'])['Number'].sum().unstack()\n",
    "sub_df"
   ]
  },
  {
   "cell_type": "code",
   "execution_count": 142,
   "id": "092d2c1a",
   "metadata": {},
   "outputs": [
    {
     "data": {
      "image/png": "[encoded data removed]",
      "text/plain": [
       "<Figure size 1080x288 with 3 Axes>"
      ]
     },
     "metadata": {
      "needs_background": "light"
     },
     "output_type": "display_data"
    },
    {
     "data": {
      "image/png": "[encoded data removed]",
      "text/plain": [
       "<Figure size 720x288 with 2 Axes>"
      ]
     },
     "metadata": {
      "needs_background": "light"
     },
     "output_type": "display_data"
    }
   ],
   "source": [
    "data_2017 = df[df['Year']==2017].groupby(['District.Name'])['Number'].sum()\n",
    "data_2016 = df[df['Year']==2016].groupby(['District.Name'])['Number'].sum()\n",
    "data_2015 = df[df['Year']==2015].groupby(['District.Name'])['Number'].sum()\n",
    "data_2014 = df[df['Year']==2014].groupby(['District.Name'])['Number'].sum()\n",
    "data_2013 = df[df['Year']==2013].groupby(['District.Name'])['Number'].sum()\n",
    "\n",
    "fig, (ax1, ax2, ax3) = plt.subplots(1,3, figsize=(15,4))\n",
    "data_2017.plot(kind='bar', color='blue', alpha=0.6, title='Population by district, Year 2017', ax=ax1)\n",
    "ax1.grid(linestyle='--', alpha=0.5, axis='y')\n",
    "data_2016.plot(kind='bar', color='blue', alpha=0.6, title='Population by district, Year 2016', ax=ax2)\n",
    "ax2.grid(linestyle='--', alpha=0.5, axis='y')\n",
    "data_2015.plot(kind='bar', color='blue', alpha=0.6, title='Population by district, Year 2015', ax=ax3)\n",
    "plt.grid(linestyle='--', alpha=0.5, axis='y')\n",
    "\n",
    "fig, (ax4, ax5) = plt.subplots(1,2, figsize=(10,4))\n",
    "data_2014.plot(kind='bar', color='blue', alpha=0.6, title='Population by district, Year 2014', ax=ax4)\n",
    "ax4.grid(linestyle='--', alpha=0.5, axis='y')\n",
    "data_2013.plot(kind='bar', color='blue', alpha=0.6, title='Population by district, Year 2013', ax=ax5)\n",
    "ax5.grid(linestyle='--', alpha=0.5, axis='y')"
   ]
  },
  {
   "cell_type": "markdown",
   "id": "281d38f3",
   "metadata": {},
   "source": [
    "Population distribution among district stays the same. Eixample, Sant Martí, Sants-Montjuïc are the most populated districts followed by Horta-Guinardó, Nou Barris and Sant Andreu. Les Corts has smallest population that is only 30% of Eixample population."
   ]
  },
  {
   "cell_type": "markdown",
   "id": "ff38b9f9",
   "metadata": {},
   "source": [
    "##### Conclusion:\n",
    "  During the years 2013-2017 there were no significant changes in Barcelona's population. The proportion of male and female populations were almost the same, with the number of women slightly larger. Geographically, the population distribution did not change: Eixample, Sant Martí, Sants-Montjuïc were the most populated areas and Les Corts was the least populated area."
   ]
  },
  {
   "cell_type": "code",
   "execution_count": null,
   "id": "744b45f2",
   "metadata": {},
   "outputs": [],
   "source": []
  }
 ],
 "metadata": {
  "kernelspec": {
   "display_name": "Python 3",
   "language": "python",
   "name": "python3"
  },
  "language_info": {
   "codemirror_mode": {
    "name": "ipython",
    "version": 3
   },
   "file_extension": ".py",
   "mimetype": "text/x-python",
   "name": "python",
   "nbconvert_exporter": "python",
   "pygments_lexer": "ipython3",
   "version": "3.8.8"
  }
 },
 "nbformat": 4,
 "nbformat_minor": 5
}
